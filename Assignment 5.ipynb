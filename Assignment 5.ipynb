{
 "cells": [
  {
   "cell_type": "code",
   "execution_count": 1,
   "id": "d48a6208-47e1-4e60-a83b-622809b68349",
   "metadata": {},
   "outputs": [
    {
     "data": {
      "text/plain": [
       "'The vehicle name is Toyota and it has 4 as seating capacity'"
      ]
     },
     "execution_count": 1,
     "metadata": {},
     "output_type": "execute_result"
    }
   ],
   "source": [
    "class vehicle:\n",
    "  def __init__(self,name,maxspeed,averagespeed):\n",
    "    self.name=name\n",
    "    self.maxspeed=maxspeed\n",
    "    self.averagespeed=averagespeed\n",
    "\n",
    "Toyota=vehicle(\"Toyota\",300,150)\n",
    "Maruti=vehicle(\"Maruti\",200,120)\n",
    "   \n",
    "def seating_capacity(self,seating_capacity):\n",
    "    return f\"The vehicle name is {self.name} and it has {seating_capacity} as seating capacity\" \n",
    "\n",
    "seating_capacity(Toyota,4)"
   ]
  },
  {
   "cell_type": "code",
   "execution_count": 6,
   "id": "a186703b-e33f-4952-81bf-a2aaf3d7ed6f",
   "metadata": {},
   "outputs": [
    {
     "name": "stdout",
     "output_type": "stream",
     "text": [
      "Aayush\n",
      "And\n",
      "Anand\n"
     ]
    }
   ],
   "source": [
    "#If a child class is inheriting the properties of a single other class, we call it single inheritance. \n",
    "#However, if a child class inherits from more than one class, i.e. this child class is derived from multiple classes, we call it multiple inheritance in Python\n",
    "\n",
    "class level1:\n",
    "      def first(self):\n",
    "            print ('Aayush')\n",
    "\n",
    "class level2(level1): \n",
    "      def second(self):\n",
    "             print ('And')\n",
    "\n",
    "class level3(level2):\n",
    "      def third(self):\n",
    "            print ('Anand')\n",
    "\n",
    "obj=level3()\n",
    "obj.first()\n",
    "obj.second()\n",
    "obj.third()"
   ]
  },
  {
   "cell_type": "code",
   "execution_count": 7,
   "id": "d1e44a2f-10e3-4ddb-8973-b39414817940",
   "metadata": {},
   "outputs": [
    {
     "name": "stdout",
     "output_type": "stream",
     "text": [
      "Aayush.Anand@gmail.com\n",
      "Chotu.Anand@gmail.com\n",
      "The email is\n",
      "Arkham.Knight@gmail.com\n",
      "Email is not possible\n",
      "The email is\n",
      "Batman.Gotham@gmail.com\n"
     ]
    }
   ],
   "source": [
    "#the main purpose of using getters and setters in object-oriented programs is to ensure data encapsulation.\n",
    "# Private variables in python are not actually hidden fields like in other object oriented languages.\n",
    "# Getters and Setters in python are often used when:\n",
    "\n",
    "#We use getters & setters to add validation logic around getting and setting a value.\n",
    "#To avoid direct access of a class field i.e. private variables cannot be accessed directly or modified by external user.\n",
    "\n",
    "\n",
    "class Employee:\n",
    "  def __init__(self,fname,lname):\n",
    "    self.fname=fname\n",
    "    self.lname=lname\n",
    "  @property\n",
    "  def email(self):\n",
    "    if self.fname == None or self.lname == None :\n",
    "      return \"Email is not possible\"\n",
    "    return f\"{self.fname}.{self.lname}@gmail.com\"\n",
    "\n",
    "  @email.setter\n",
    "  def email(self,string):\n",
    "    print(\"The email is\")\n",
    "    names=string.split(\"@\")[0]\n",
    "    self.fname=names.split(\".\")[0]\n",
    "    self.lname=names.split(\".\")[1]\n",
    "\n",
    "  @email.deleter\n",
    "  def email(self):\n",
    "    self.fname= None\n",
    "    self.lname= None\n",
    "\n",
    "Aayush=Employee(\"Aayush\",\"Anand\")  \n",
    "print(Aayush.email)\n",
    "Aayush.fname=\"Chotu\"\n",
    "print(Aayush.email)\n",
    "Aayush.email=\"Arkham.Knight@gmail.com\"\n",
    "print(Aayush.email)\n",
    "del Aayush.email\n",
    "print(Aayush.email)\n",
    "Aayush.email=\"Batman.Gotham@gmail.com\"\n",
    "print(Aayush.email)"
   ]
  },
  {
   "cell_type": "code",
   "execution_count": 8,
   "id": "b9f2dc2d-d90b-4498-9f3c-95aa8336d8db",
   "metadata": {},
   "outputs": [],
   "source": [
    "#Method overriding is an ability of any object-oriented programming language that allows a subclass or child class to provide a specific implementation of a method that is already provided by one of its super-classes or parent classes.\n",
    "#When a method in a subclass has the same name, same parameters or signature and same return type(or sub-type) as a method in its super-class, then the method in the subclass is said to override the method in the super-class.\n",
    "\n",
    "\n",
    "class Person(object):\n",
    "\n",
    "    def __init__(self, name, idnumber):\n",
    "        self.name = name\n",
    "        self.idnumber = idnumber\n",
    " \n",
    "    def display(self):\n",
    "        print(self.name)\n",
    "        print(self.idnumber)\n",
    "\n",
    "class Employee(Person):\n",
    "    def __init__(self, name, idnumber, salary, post):\n",
    "        self.salary = salary\n",
    "        self.post = post\n",
    "\n",
    "        Person.__init__(self, name, idnumber)\n",
    " \n",
    "a = Employee('Rahul', 886012, 200000, \"Intern\")"
   ]
  },
  {
   "cell_type": "code",
   "execution_count": null,
   "id": "6ac12832-ecf7-49be-87bc-a913eeeb4ec7",
   "metadata": {},
   "outputs": [],
   "source": []
  }
 ],
 "metadata": {
  "kernelspec": {
   "display_name": "Python 3 (ipykernel)",
   "language": "python",
   "name": "python3"
  },
  "language_info": {
   "codemirror_mode": {
    "name": "ipython",
    "version": 3
   },
   "file_extension": ".py",
   "mimetype": "text/x-python",
   "name": "python",
   "nbconvert_exporter": "python",
   "pygments_lexer": "ipython3",
   "version": "3.10.8"
  }
 },
 "nbformat": 4,
 "nbformat_minor": 5
}
